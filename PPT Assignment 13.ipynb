{
 "cells": [
  {
   "cell_type": "markdown",
   "metadata": {},
   "source": [
    "Que 1"
   ]
  },
  {
   "cell_type": "code",
   "execution_count": 4,
   "metadata": {},
   "outputs": [
    {
     "name": "stdout",
     "output_type": "stream",
     "text": [
      "5 7 4 8 "
     ]
    }
   ],
   "source": [
    "class Node:\n",
    "    def __init__(self, data):\n",
    "        self.data = data\n",
    "        self.next = None\n",
    "\n",
    "def merge_lists(list1, list2):\n",
    "    if list1 is None:\n",
    "        return list2\n",
    "    if list2 is None:\n",
    "        return list1\n",
    "\n",
    "    new_list = None\n",
    "    current = None\n",
    "\n",
    "    while list1 is not None and list2 is not None:\n",
    "        if list1.data >= list2.data:\n",
    "            if new_list is None:\n",
    "                new_list = Node(list1.data)\n",
    "                current = new_list\n",
    "            else:\n",
    "                current.next = Node(list1.data)\n",
    "                current = current.next\n",
    "        else:\n",
    "            if new_list is None:\n",
    "                new_list = Node(list2.data)\n",
    "                current = new_list\n",
    "            else:\n",
    "                current.next = Node(list2.data)\n",
    "                current = current.next\n",
    "\n",
    "        list1 = list1.next\n",
    "        list2 = list2.next\n",
    "\n",
    "    return new_list\n",
    "\n",
    "# Create the first linked list: 5->2->3->8\n",
    "list1 = Node(5)\n",
    "list1.next = Node(2)\n",
    "list1.next.next = Node(3)\n",
    "list1.next.next.next = Node(8)\n",
    "\n",
    "# Create the second linked list: 1->7->4->5\n",
    "list2 = Node(1)\n",
    "list2.next = Node(7)\n",
    "list2.next.next = Node(4)\n",
    "list2.next.next.next = Node(5)\n",
    "\n",
    "# Merge the lists\n",
    "new_list = merge_lists(list1, list2)\n",
    "\n",
    "# Print the new merged list: 5->7->4->8\n",
    "current = new_list\n",
    "while current is not None:\n",
    "    print(current.data, end=\" \")\n",
    "    current = current.next\n",
    "    \n",
    "    \n"
   ]
  },
  {
   "cell_type": "code",
   "execution_count": 6,
   "metadata": {},
   "outputs": [
    {
     "name": "stdout",
     "output_type": "stream",
     "text": [
      "5 8 9 4 "
     ]
    }
   ],
   "source": [
    "##Example 2\n",
    "# Create the first linked list: 2->8->9->3\n",
    "list1 = Node(2)\n",
    "list1.next = Node(8)\n",
    "list1.next.next = Node(9)\n",
    "list1.next.next.next = Node(3)\n",
    "\n",
    "# Create the second linked list: 5->3->7->4\n",
    "list2 = Node(5)\n",
    "list2.next = Node(3)\n",
    "list2.next.next = Node(6)\n",
    "list2.next.next.next = Node(4)\n",
    "\n",
    "# Merge the lists\n",
    "new_list = merge_lists(list1, list2)\n",
    "\n",
    "# Print the new merged list: 5->8->9->4\n",
    "current = new_list\n",
    "while current is not None:\n",
    "    print(current.data, end=\" \")\n",
    "    current = current.next"
   ]
  },
  {
   "cell_type": "markdown",
   "metadata": {},
   "source": [
    "Que 2"
   ]
  },
  {
   "cell_type": "code",
   "execution_count": 7,
   "metadata": {},
   "outputs": [
    {
     "name": "stdout",
     "output_type": "stream",
     "text": [
      "11 21 43 60 "
     ]
    }
   ],
   "source": [
    "class Node:\n",
    "    def __init__(self, data):\n",
    "        self.data = data\n",
    "        self.next = None\n",
    "\n",
    "def remove_duplicates(head):\n",
    "    if head is None:\n",
    "        return head\n",
    "\n",
    "    current = head\n",
    "\n",
    "    while current.next is not None:\n",
    "        if current.data == current.next.data:\n",
    "            # Duplicate node found, remove it\n",
    "            current.next = current.next.next\n",
    "        else:\n",
    "            # Move to the next node\n",
    "            current = current.next\n",
    "\n",
    "    return head\n",
    "\n",
    "## Example 1\n",
    "# Create the linked list: 11->11->11->21->43->43->60\n",
    "head = Node(11)\n",
    "head.next = Node(11)\n",
    "head.next.next = Node(11)\n",
    "head.next.next.next = Node(21)\n",
    "head.next.next.next.next = Node(43)\n",
    "head.next.next.next.next.next = Node(43)\n",
    "head.next.next.next.next.next.next = Node(60)\n",
    "\n",
    "# Remove duplicate nodes\n",
    "new_head = remove_duplicates(head)\n",
    "\n",
    "# Print the updated list: 11->21->43->60\n",
    "current = new_head\n",
    "while current is not None:\n",
    "    print(current.data, end=\" \")\n",
    "    current = current.next"
   ]
  },
  {
   "cell_type": "code",
   "execution_count": 8,
   "metadata": {},
   "outputs": [
    {
     "name": "stdout",
     "output_type": "stream",
     "text": [
      "10 12 25 34 "
     ]
    }
   ],
   "source": [
    "##Example 2\n",
    "# Create the linked list: 10->12->12->25->25->25->34\n",
    "head = Node(10)\n",
    "head.next = Node(12)\n",
    "head.next.next = Node(12)\n",
    "head.next.next.next = Node(25)\n",
    "head.next.next.next.next = Node(25)\n",
    "head.next.next.next.next.next = Node(25)\n",
    "head.next.next.next.next.next.next = Node(34)\n",
    "\n",
    "# Remove duplicate nodes\n",
    "new_head = remove_duplicates(head)\n",
    "\n",
    "# Print the updated list: 10->12->25->34\n",
    "current = new_head\n",
    "while current is not None:\n",
    "    print(current.data, end=\" \")\n",
    "    current = current.next"
   ]
  },
  {
   "cell_type": "markdown",
   "metadata": {},
   "source": [
    "Que 3"
   ]
  },
  {
   "cell_type": "code",
   "execution_count": 17,
   "metadata": {},
   "outputs": [
    {
     "name": "stdout",
     "output_type": "stream",
     "text": [
      "4 2 2 1 8 7 6 5 "
     ]
    }
   ],
   "source": [
    "class Node:\n",
    "    def __init__(self, data):\n",
    "        self.data = data\n",
    "        self.next = None\n",
    "\n",
    "def reverse_k_nodes(head, k):\n",
    "    if head is None:\n",
    "        return head\n",
    "\n",
    "    current = head\n",
    "    prev = None\n",
    "    count = 0\n",
    "\n",
    "    # Reverse the first k nodes\n",
    "    while current is not None and count < k:\n",
    "        next_node = current.next\n",
    "        current.next = prev\n",
    "        prev = current\n",
    "        current = next_node\n",
    "        count += 1\n",
    "\n",
    "    # Recursive call for the remaining linked list\n",
    "    if next_node is not None:\n",
    "        head.next = reverse_k_nodes(next_node, k)\n",
    "\n",
    "    return prev\n",
    "\n",
    "#Create the linked list: 1->2->2->4->5->6->7->8\n",
    "head = Node(1)\n",
    "head.next = Node(2)\n",
    "head.next.next = Node(2)\n",
    "head.next.next.next = Node(4)\n",
    "head.next.next.next.next = Node(5)\n",
    "head.next.next.next.next.next = Node(6)\n",
    "head.next.next.next.next.next.next = Node(7)\n",
    "head.next.next.next.next.next.next.next = Node(8)\n",
    "\n",
    "# Reverse every k nodes (k=4)\n",
    "k = 4\n",
    "new_head = reverse_k_nodes(head, k)\n",
    "\n",
    "# Print the reversed linked list: 4->2->2->1->8->7->6->5\n",
    "current = new_head\n",
    "while current is not None:\n",
    "    print(current.data, end=\" \")\n",
    "    current = current.next"
   ]
  },
  {
   "cell_type": "code",
   "execution_count": 19,
   "metadata": {},
   "outputs": [
    {
     "name": "stdout",
     "output_type": "stream",
     "text": [
      "3 2 1 5 4 "
     ]
    }
   ],
   "source": [
    "# Create the linked list: 1->2->3->4->5\n",
    "head = Node(1)\n",
    "head.next = Node(2)\n",
    "head.next.next = Node(3)\n",
    "head.next.next.next = Node(4)\n",
    "head.next.next.next.next = Node(5)\n",
    "\n",
    "# Reverse every k nodes (k=3)\n",
    "k = 3\n",
    "new_head = reverse_k_nodes(head, k)\n",
    "\n",
    "# Print the reversed linked list: 3->2->1->5->4\n",
    "current = new_head\n",
    "while current is not None:\n",
    "    print(current.data, end=\" \")\n",
    "    current = current.next"
   ]
  },
  {
   "cell_type": "markdown",
   "metadata": {},
   "source": [
    "Que 4 \n"
   ]
  },
  {
   "cell_type": "code",
   "execution_count": 20,
   "metadata": {},
   "outputs": [
    {
     "name": "stdout",
     "output_type": "stream",
     "text": [
      "3 2 1 4 5 6 9 8 7 "
     ]
    }
   ],
   "source": [
    "class Node:\n",
    "    def __init__(self, data):\n",
    "        self.data = data\n",
    "        self.next = None\n",
    "\n",
    "def reverse_alternate_k_nodes(head, k):\n",
    "    if head is None:\n",
    "        return head\n",
    "\n",
    "    current = head\n",
    "    prev = None\n",
    "    count = 0\n",
    "\n",
    "    # Reverse the first k nodes\n",
    "    while current is not None and count < k:\n",
    "        next_node = current.next\n",
    "        current.next = prev\n",
    "        prev = current\n",
    "        current = next_node\n",
    "        count += 1\n",
    "\n",
    "    # Connect the reversed sublist to the next k nodes recursively\n",
    "    if head is not None:\n",
    "        head.next = current\n",
    "\n",
    "    # Skip the next k nodes\n",
    "    count = 0\n",
    "    while current is not None and count < k - 1:\n",
    "        current = current.next\n",
    "        count += 1\n",
    "\n",
    "    # Recursive call for the remaining linked list\n",
    "    if current is not None:\n",
    "        current.next = reverse_alternate_k_nodes(current.next, k)\n",
    "\n",
    "    return prev\n",
    "\n",
    "# Create the linked list: 1->2->3->4->5->6->7->8->9\n",
    "head = Node(1)\n",
    "head.next = Node(2)\n",
    "head.next.next = Node(3)\n",
    "head.next.next.next = Node(4)\n",
    "head.next.next.next.next = Node(5)\n",
    "head.next.next.next.next.next = Node(6)\n",
    "head.next.next.next.next.next.next = Node(7)\n",
    "head.next.next.next.next.next.next.next = Node(8)\n",
    "head.next.next.next.next.next.next.next.next = Node(9)\n",
    "\n",
    "# Reverse every alternate k nodes (k=3)\n",
    "k = 3\n",
    "new_head = reverse_alternate_k_nodes(head, k)\n",
    "\n",
    "# Print the reversed linked list: 3->2->1->4->5->6->9->8->7\n",
    "current = new_head\n",
    "while current is not None:\n",
    "    print(current.data, end=\" \")\n",
    "    current = current.next"
   ]
  },
  {
   "cell_type": "markdown",
   "metadata": {},
   "source": [
    "Que 5"
   ]
  },
  {
   "cell_type": "code",
   "execution_count": 23,
   "metadata": {},
   "outputs": [
    {
     "name": "stdout",
     "output_type": "stream",
     "text": [
      "1 2 3 5 2 10 "
     ]
    }
   ],
   "source": [
    "class Node:\n",
    "    def __init__(self, data):\n",
    "        self.data = data\n",
    "        self.next = None\n",
    "\n",
    "def delete_last_occurrence(head, key):\n",
    "    if head is None:\n",
    "        return head\n",
    "\n",
    "    prev = None\n",
    "    current = head\n",
    "    last_occurrence = None\n",
    "    next_node = head.next\n",
    "\n",
    "    # Traverse the linked list to find the last occurrence of the key\n",
    "    while current is not None:\n",
    "        if current.data == key:\n",
    "            last_occurrence = current\n",
    "        prev = current\n",
    "        current = current.next\n",
    "        if current:\n",
    "            next_node = current.next\n",
    "\n",
    "    # If the last occurrence is found, delete it\n",
    "    if last_occurrence is not None:\n",
    "        if last_occurrence == head:\n",
    "            # If the last occurrence is the head node\n",
    "            head = head.next\n",
    "        else:\n",
    "            # If the last occurrence is not the head node\n",
    "            prev.next = next_node\n",
    "\n",
    "    return head\n",
    "\n",
    "# Create the linked list: 1->2->3->5->2->10\n",
    "head = Node(1)\n",
    "head.next = Node(2)\n",
    "head.next.next = Node(3)\n",
    "head.next.next.next = Node(5)\n",
    "head.next.next.next.next = Node(2)\n",
    "head.next.next.next.next.next = Node(10)\n",
    "\n",
    "# Delete the last occurrence of key=2\n",
    "key = 2\n",
    "new_head = delete_last_occurrence(head, key)\n",
    "\n",
    "# Print the modified linked list: 1->2->3->5->10\n",
    "current = new_head\n",
    "while current is not None:\n",
    "    print(current.data, end=\" \")\n",
    "    current = current.next"
   ]
  },
  {
   "cell_type": "markdown",
   "metadata": {},
   "source": [
    "Que 6"
   ]
  },
  {
   "cell_type": "code",
   "execution_count": 24,
   "metadata": {},
   "outputs": [
    {
     "name": "stdout",
     "output_type": "stream",
     "text": [
      "2 3 5 10 15 20 "
     ]
    }
   ],
   "source": [
    "class Node:\n",
    "    def __init__(self, data):\n",
    "        self.data = data\n",
    "        self.next = None\n",
    "\n",
    "def merge_sorted_lists(a, b):\n",
    "    # If one of the lists is empty, return the other list\n",
    "    if a is None:\n",
    "        return b\n",
    "    if b is None:\n",
    "        return a\n",
    "\n",
    "    # Choose the head of the merged list\n",
    "    if a.data <= b.data:\n",
    "        head = a\n",
    "        a = a.next\n",
    "    else:\n",
    "        head = b\n",
    "        b = b.next\n",
    "\n",
    "    current = head\n",
    "\n",
    "    # Merge the remaining nodes of the lists\n",
    "    while a is not None and b is not None:\n",
    "        if a.data <= b.data:\n",
    "            current.next = a\n",
    "            a = a.next\n",
    "        else:\n",
    "            current.next = b\n",
    "            b = b.next\n",
    "        current = current.next\n",
    "\n",
    "    # Attach the remaining nodes of the non-empty list\n",
    "    if a is not None:\n",
    "        current.next = a\n",
    "    if b is not None:\n",
    "        current.next = b\n",
    "\n",
    "    return head\n",
    "\n",
    "# Create the first sorted linked list: 5->10->15\n",
    "a = Node(5)\n",
    "a.next = Node(10)\n",
    "a.next.next = Node(15)\n",
    "\n",
    "# Create the second sorted linked list: 2->3->20\n",
    "b = Node(2)\n",
    "b.next = Node(3)\n",
    "b.next.next = Node(20)\n",
    "\n",
    "# Merge the two lists\n",
    "merged_head = merge_sorted_lists(a, b)\n",
    "\n",
    "# Print the merged list: 2->3->5->10->15->20\n",
    "current = merged_head\n",
    "while current is not None:\n",
    "    print(current.data, end=\" \")\n",
    "    current = current.next"
   ]
  },
  {
   "cell_type": "code",
   "execution_count": 25,
   "metadata": {},
   "outputs": [
    {
     "name": "stdout",
     "output_type": "stream",
     "text": [
      "1 1 2 4 "
     ]
    }
   ],
   "source": [
    "##Exapmle 2\n",
    "# Create the first sorted linked list: 1->1\n",
    "a = Node(1)\n",
    "a.next = Node(1)\n",
    "\n",
    "# Create the second sorted linked list: 2->4\n",
    "b = Node(2)\n",
    "b.next = Node(4)\n",
    "\n",
    "# Merge the two lists\n",
    "merged_head = merge_sorted_lists(a, b)\n",
    "\n",
    "# Print the merged list: 1->1->2->4\n",
    "current = merged_head\n",
    "while current is not None:\n",
    "    print(current.data, end=\" \")\n",
    "    current = current.next"
   ]
  },
  {
   "cell_type": "markdown",
   "metadata": {},
   "source": [
    "Que 7"
   ]
  },
  {
   "cell_type": "code",
   "execution_count": 26,
   "metadata": {},
   "outputs": [
    {
     "name": "stdout",
     "output_type": "stream",
     "text": [
      "2 4 8 10 "
     ]
    }
   ],
   "source": [
    "class Node:\n",
    "    def __init__(self, data):\n",
    "        self.data = data\n",
    "        self.prev = None\n",
    "        self.next = None\n",
    "\n",
    "def reverse_doubly_linked_list(head):\n",
    "    if head is None or head.next is None:\n",
    "        return head\n",
    "\n",
    "    current = head\n",
    "    prev = None\n",
    "\n",
    "    # Reverse the links of each node\n",
    "    while current is not None:\n",
    "        prev = current.prev\n",
    "        current.prev = current.next\n",
    "        current.next = prev\n",
    "        current = current.prev\n",
    "\n",
    "    # Set the new head of the reversed list\n",
    "    head = prev.prev\n",
    "\n",
    "    return head\n",
    "\n",
    "# Create the doubly linked list: 10 <-> 8 <-> 4 <-> 2\n",
    "head = Node(10)\n",
    "head.next = Node(8)\n",
    "head.next.prev = head\n",
    "head.next.next = Node(4)\n",
    "head.next.next.prev = head.next\n",
    "head.next.next.next = Node(2)\n",
    "head.next.next.next.prev = head.next.next\n",
    "\n",
    "# Reverse the doubly linked list\n",
    "reversed_head = reverse_doubly_linked_list(head)\n",
    "\n",
    "# Print the reversed list: 2 <-> 4 <-> 8 <-> 10\n",
    "current = reversed_head\n",
    "while current is not None:\n",
    "    print(current.data, end=\" \")\n",
    "    current = current.next"
   ]
  },
  {
   "cell_type": "markdown",
   "metadata": {},
   "source": [
    "Que 8"
   ]
  },
  {
   "cell_type": "code",
   "execution_count": 27,
   "metadata": {},
   "outputs": [
    {
     "name": "stdout",
     "output_type": "stream",
     "text": [
      "1 3 "
     ]
    }
   ],
   "source": [
    "class Node:\n",
    "    def __init__(self, data):\n",
    "        self.data = data\n",
    "        self.prev = None\n",
    "        self.next = None\n",
    "\n",
    "def delete_node_at_position(head, position):\n",
    "    if head is None:\n",
    "        return head\n",
    "\n",
    "    # If the position is 1, update the head and return\n",
    "    if position == 1:\n",
    "        head = head.next\n",
    "        if head is not None:\n",
    "            head.prev = None\n",
    "        return head\n",
    "\n",
    "    current = head\n",
    "    count = 1\n",
    "\n",
    "    # Traverse to the position to delete the node\n",
    "    while current is not None and count < position:\n",
    "        current = current.next\n",
    "        count += 1\n",
    "\n",
    "    # If the position is invalid, return the original head\n",
    "    if current is None:\n",
    "        return head\n",
    "\n",
    "    # Update the prev and next pointers of the surrounding nodes\n",
    "    prev_node = current.prev\n",
    "    next_node = current.next\n",
    "\n",
    "    if prev_node is not None:\n",
    "        prev_node.next = next_node\n",
    "    if next_node is not None:\n",
    "        next_node.prev = prev_node\n",
    "\n",
    "    return head\n",
    "\n",
    "# Create the doubly linked list: 1 <-> 3 <-> 4\n",
    "head = Node(1)\n",
    "node2 = Node(3)\n",
    "node3 = Node(4)\n",
    "head.next = node2\n",
    "node2.prev = head\n",
    "node2.next = node3\n",
    "node3.prev = node2\n",
    "\n",
    "# Delete the node at position 3\n",
    "position = 3\n",
    "new_head = delete_node_at_position(head, position)\n",
    "\n",
    "# Print the modified list: 1 <-> 3\n",
    "current = new_head\n",
    "while current is not None:\n",
    "    print(current.data, end=\" \")\n",
    "    current = current.next"
   ]
  },
  {
   "cell_type": "code",
   "execution_count": 28,
   "metadata": {},
   "outputs": [
    {
     "name": "stdout",
     "output_type": "stream",
     "text": [
      "5 2 9 "
     ]
    }
   ],
   "source": [
    "##Example 2\n",
    "# Create the doubly linked list: 1 <-> 5 <-> 2 <-> 9\n",
    "head = Node(1)\n",
    "node2 = Node(5)\n",
    "node3 = Node(2)\n",
    "node4 = Node(9)\n",
    "head.next = node2\n",
    "node2.prev = head\n",
    "node2.next = node3\n",
    "node3.prev = node2\n",
    "node3.next = node4\n",
    "node4.prev = node3\n",
    "\n",
    "# Delete the node at position 1\n",
    "position = 1\n",
    "new_head = delete_node_at_position(head, position)\n",
    "\n",
    "# Print the modified list: 5 <-> 2 <-> 9\n",
    "current = new_head\n",
    "while current is not None:\n",
    "    print(current.data, end=\" \")\n",
    "    current = current.next"
   ]
  },
  {
   "cell_type": "code",
   "execution_count": null,
   "metadata": {},
   "outputs": [],
   "source": []
  }
 ],
 "metadata": {
  "kernelspec": {
   "display_name": "Python 3",
   "language": "python",
   "name": "python3"
  },
  "language_info": {
   "codemirror_mode": {
    "name": "ipython",
    "version": 3
   },
   "file_extension": ".py",
   "mimetype": "text/x-python",
   "name": "python",
   "nbconvert_exporter": "python",
   "pygments_lexer": "ipython3",
   "version": "3.8.3"
  }
 },
 "nbformat": 4,
 "nbformat_minor": 4
}
