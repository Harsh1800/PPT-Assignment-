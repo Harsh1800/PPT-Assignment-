{
 "cells": [
  {
   "cell_type": "markdown",
   "metadata": {},
   "source": [
    "Que 1"
   ]
  },
  {
   "cell_type": "code",
   "execution_count": 1,
   "metadata": {},
   "outputs": [
    {
     "name": "stdout",
     "output_type": "stream",
     "text": [
      "True\n",
      "True\n",
      "False\n"
     ]
    }
   ],
   "source": [
    "def isPowerOfTwo(n):\n",
    "    if n <= 0:\n",
    "        return False\n",
    "    \n",
    "    # Count the number of set bits in n\n",
    "    count = 0\n",
    "    while n > 0:\n",
    "        if n & 1 == 1:\n",
    "            count += 1\n",
    "        n >>= 1\n",
    "    \n",
    "    return count == 1\n",
    "\n",
    "n = 1\n",
    "result = isPowerOfTwo(n)\n",
    "print(result)\n",
    "\n",
    "n = 16\n",
    "result = isPowerOfTwo(n)\n",
    "print(result)\n",
    "\n",
    "n = 3\n",
    "result = isPowerOfTwo(n)\n",
    "print(result)"
   ]
  },
  {
   "cell_type": "markdown",
   "metadata": {},
   "source": [
    "Que 2"
   ]
  },
  {
   "cell_type": "code",
   "execution_count": 2,
   "metadata": {},
   "outputs": [
    {
     "name": "stdout",
     "output_type": "stream",
     "text": [
      "6\n",
      "15\n"
     ]
    }
   ],
   "source": [
    "def sumOfFirstNNumbers(n):\n",
    "    return (n * (n + 1)) // 2\n",
    "\n",
    "n = 3\n",
    "result = sumOfFirstNNumbers(n)\n",
    "print(result)\n",
    "\n",
    "n = 5\n",
    "result = sumOfFirstNNumbers(n)\n",
    "print(result)"
   ]
  },
  {
   "cell_type": "markdown",
   "metadata": {},
   "source": [
    "Que 3"
   ]
  },
  {
   "cell_type": "code",
   "execution_count": 3,
   "metadata": {},
   "outputs": [
    {
     "name": "stdout",
     "output_type": "stream",
     "text": [
      "120\n",
      "24\n"
     ]
    }
   ],
   "source": [
    "def factorial(N):\n",
    "    if N == 0:\n",
    "        return 1\n",
    "    else:\n",
    "        return N * factorial(N - 1)\n",
    "\n",
    "N = 5\n",
    "result = factorial(N)\n",
    "print(result)\n",
    "\n",
    "N = 4\n",
    "result = factorial(N)\n",
    "print(result)"
   ]
  },
  {
   "cell_type": "markdown",
   "metadata": {},
   "source": [
    "Que 4"
   ]
  },
  {
   "cell_type": "code",
   "execution_count": 4,
   "metadata": {},
   "outputs": [
    {
     "name": "stdout",
     "output_type": "stream",
     "text": [
      "25\n",
      "32\n"
     ]
    }
   ],
   "source": [
    "N = 5\n",
    "P = 2\n",
    "result = N ** P\n",
    "print(result)\n",
    "\n",
    "N = 2\n",
    "P = 5\n",
    "result = N ** P\n",
    "print(result)"
   ]
  },
  {
   "cell_type": "markdown",
   "metadata": {},
   "source": [
    "Que 5"
   ]
  },
  {
   "cell_type": "code",
   "execution_count": 8,
   "metadata": {},
   "outputs": [
    {
     "name": "stdout",
     "output_type": "stream",
     "text": [
      "8\n",
      "45\n"
     ]
    }
   ],
   "source": [
    "def findMax(arr, n):\n",
    "    # Base case: If there is only one element in the array, it is the maximum\n",
    "    if n == 1:\n",
    "        return arr[0]\n",
    "    \n",
    "    # Recursive call: Find the maximum of the remaining elements\n",
    "    max_value = findMax(arr, n - 1)\n",
    "    \n",
    "    # Compare the maximum value with the current element and return the maximum\n",
    "    return max(max_value, arr[n - 1])\n",
    "\n",
    "# Example usage:\n",
    "arr = [1, 4, 3, -5, -4, 8, 6]\n",
    "n = len(arr)\n",
    "max_element = findMax(arr, n)\n",
    "print(max_element)\n",
    "\n",
    "arr =  [1, 4, 45, 6, 10, -8]\n",
    "n = len(arr)\n",
    "max_element = findMax(arr, n)\n",
    "print(max_element)"
   ]
  },
  {
   "cell_type": "markdown",
   "metadata": {},
   "source": [
    "Que 6"
   ]
  },
  {
   "cell_type": "code",
   "execution_count": 9,
   "metadata": {},
   "outputs": [
    {
     "name": "stdout",
     "output_type": "stream",
     "text": [
      "ABC\n",
      "ACB\n",
      "BAC\n",
      "BCA\n",
      "CBA\n",
      "CAB\n",
      "XY\n",
      "YX\n"
     ]
    }
   ],
   "source": [
    "def permute(s, left, right):\n",
    "    if left == right:\n",
    "        print(\"\".join(s))\n",
    "    else:\n",
    "        for i in range(left, right + 1):\n",
    "            s[left], s[i] = s[i], s[left]  # Swap characters\n",
    "            permute(s, left + 1, right)  # Recursively permute the remaining characters\n",
    "            s[left], s[i] = s[i], s[left]  # Revert the swap\n",
    "\n",
    "# Example usage:\n",
    "s = \"ABC\"\n",
    "n = len(s)\n",
    "s_list = list(s)\n",
    "permute(s_list, 0, n - 1)\n",
    "\n",
    "s=\"XY\"\n",
    "n = len(s)\n",
    "s_list = list(s)\n",
    "permute(s_list, 0, n - 1)"
   ]
  },
  {
   "cell_type": "markdown",
   "metadata": {},
   "source": [
    "Que 7"
   ]
  },
  {
   "cell_type": "code",
   "execution_count": null,
   "metadata": {},
   "outputs": [],
   "source": []
  },
  {
   "cell_type": "markdown",
   "metadata": {},
   "source": [
    "Que 8"
   ]
  },
  {
   "cell_type": "code",
   "execution_count": 10,
   "metadata": {},
   "outputs": [
    {
     "name": "stdout",
     "output_type": "stream",
     "text": [
      "120\n",
      "18\n"
     ]
    }
   ],
   "source": [
    "def productOfArray(arr):\n",
    "    product = 1\n",
    "    for num in arr:\n",
    "        product *= num\n",
    "    return product\n",
    "\n",
    "# Example usage:\n",
    "arr1 = [1, 2, 3, 4, 5]\n",
    "result1 = productOfArray(arr1)\n",
    "print(result1)  \n",
    "\n",
    "arr2 = [1, 6, 3]\n",
    "result2 = productOfArray(arr2)\n",
    "print(result2)"
   ]
  }
 ],
 "metadata": {
  "kernelspec": {
   "display_name": "Python 3",
   "language": "python",
   "name": "python3"
  },
  "language_info": {
   "codemirror_mode": {
    "name": "ipython",
    "version": 3
   },
   "file_extension": ".py",
   "mimetype": "text/x-python",
   "name": "python",
   "nbconvert_exporter": "python",
   "pygments_lexer": "ipython3",
   "version": "3.8.3"
  }
 },
 "nbformat": 4,
 "nbformat_minor": 4
}
