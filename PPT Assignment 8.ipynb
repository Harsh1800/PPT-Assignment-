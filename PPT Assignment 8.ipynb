{
 "cells": [
  {
   "cell_type": "markdown",
   "metadata": {},
   "source": [
    "Que 1"
   ]
  },
  {
   "cell_type": "code",
   "execution_count": 1,
   "metadata": {},
   "outputs": [
    {
     "name": "stdout",
     "output_type": "stream",
     "text": [
      "231\n"
     ]
    }
   ],
   "source": [
    "def minimumDeleteSum(s1, s2):\n",
    "    m, n = len(s1), len(s2)\n",
    "    dp = [[0] * (n + 1) for _ in range(m + 1)]\n",
    "\n",
    "    for i in range(1, m + 1):\n",
    "        dp[i][0] = dp[i-1][0] + ord(s1[i-1])\n",
    "\n",
    "    for j in range(1, n + 1):\n",
    "        dp[0][j] = dp[0][j-1] + ord(s2[j-1])\n",
    "\n",
    "    for i in range(1, m + 1):\n",
    "        for j in range(1, n + 1):\n",
    "            if s1[i-1] == s2[j-1]:\n",
    "                dp[i][j] = dp[i-1][j-1]\n",
    "            else:\n",
    "                dp[i][j] = min(dp[i-1][j] + ord(s1[i-1]), dp[i][j-1] + ord(s2[j-1]))\n",
    "\n",
    "    return dp[m][n]\n",
    "s1 = \"sea\"\n",
    "s2 = \"eat\"\n",
    "print(minimumDeleteSum(s1, s2))"
   ]
  },
  {
   "cell_type": "markdown",
   "metadata": {},
   "source": [
    "Que 2"
   ]
  },
  {
   "cell_type": "code",
   "execution_count": 2,
   "metadata": {},
   "outputs": [
    {
     "name": "stdout",
     "output_type": "stream",
     "text": [
      "True\n"
     ]
    }
   ],
   "source": [
    "def checkValidString(s):\n",
    "    stack = []\n",
    "    openCount = 0\n",
    "    wildCount = 0\n",
    "\n",
    "    for char in s:\n",
    "        if char == '(':\n",
    "            stack.append(char)\n",
    "            openCount += 1\n",
    "        elif char == ')':\n",
    "            if stack:\n",
    "                stack.pop()\n",
    "                openCount -= 1\n",
    "            elif wildCount > 0:\n",
    "                wildCount -= 1\n",
    "            else:\n",
    "                return False\n",
    "        elif char == '*':\n",
    "            wildCount += 1\n",
    "\n",
    "    while stack and openCount > 0:\n",
    "        if wildCount >= openCount:\n",
    "            wildCount -= openCount\n",
    "            openCount = 0\n",
    "        else:\n",
    "            return False\n",
    "\n",
    "    return len(stack) == 0\n",
    "\n",
    "s = \"()\"\n",
    "print(checkValidString(s))"
   ]
  },
  {
   "cell_type": "markdown",
   "metadata": {},
   "source": [
    "Que3"
   ]
  },
  {
   "cell_type": "code",
   "execution_count": 3,
   "metadata": {},
   "outputs": [
    {
     "name": "stdout",
     "output_type": "stream",
     "text": [
      "2\n"
     ]
    }
   ],
   "source": [
    "def minDistance(word1, word2):\n",
    "    m, n = len(word1), len(word2)\n",
    "    dp = [[0] * (n + 1) for _ in range(m + 1)]\n",
    "\n",
    "    for i in range(m + 1):\n",
    "        dp[i][0] = i\n",
    "\n",
    "    for j in range(n + 1):\n",
    "        dp[0][j] = j\n",
    "\n",
    "    for i in range(1, m + 1):\n",
    "        for j in range(1, n + 1):\n",
    "            if word1[i-1] == word2[j-1]:\n",
    "                dp[i][j] = dp[i-1][j-1]\n",
    "            else:\n",
    "                dp[i][j] = min(dp[i-1][j] + 1, dp[i][j-1] + 1)\n",
    "\n",
    "    return dp[m][n]\n",
    "\n",
    "word1 = \"sea\"\n",
    "word2 = \"eat\"\n",
    "print(minDistance(word1, word2))"
   ]
  },
  {
   "cell_type": "markdown",
   "metadata": {},
   "source": [
    "Que 4"
   ]
  },
  {
   "cell_type": "code",
   "execution_count": 13,
   "metadata": {},
   "outputs": [
    {
     "name": "stdout",
     "output_type": "stream",
     "text": [
      "[4, 2, 3, 1, 6, 5]\n"
     ]
    }
   ],
   "source": [
    "class TreeNode:\n",
    "    def __init__(self, val=0, left=None, right=None):\n",
    "        self.val = val\n",
    "        self.left = left\n",
    "        self.right = right\n",
    "\n",
    "def buildTree(s):\n",
    "    if not s:\n",
    "        return None\n",
    "\n",
    "    # Check if the string is a single integer\n",
    "    if s.isdigit():\n",
    "        return TreeNode(int(s))\n",
    "\n",
    "    # Find the index of the first open parenthesis\n",
    "    root_val_end = s.find('(')\n",
    "    root_val = int(s[:root_val_end])\n",
    "\n",
    "    # Create the root node\n",
    "    root = TreeNode(root_val)\n",
    "\n",
    "    # Find the index of the matching closing parenthesis for the left subtree\n",
    "    left_start = root_val_end\n",
    "    left_end = -1\n",
    "    count = 0\n",
    "    for i in range(root_val_end, len(s)):\n",
    "        if s[i] == '(':\n",
    "            count += 1\n",
    "        elif s[i] == ')':\n",
    "            count -= 1\n",
    "            if count == 0:\n",
    "                left_end = i\n",
    "                break\n",
    "\n",
    "    # Extract the left subtree substring\n",
    "    left_subtree = s[left_start + 1:left_end]\n",
    "\n",
    "    # Recursively build the left subtree\n",
    "    root.left = buildTree(left_subtree)\n",
    "\n",
    "    # Update the remaining string\n",
    "    s = s[left_end + 1:]\n",
    "\n",
    "    # Check if there is more content in the remaining string\n",
    "    if s and s[0] == '(':\n",
    "        # Find the index of the matching closing parenthesis for the right subtree\n",
    "        right_start = 1\n",
    "        count = 1\n",
    "        for i in range(1, len(s)):\n",
    "            if s[i] == '(':\n",
    "                count += 1\n",
    "            elif s[i] == ')':\n",
    "                count -= 1\n",
    "                if count == 0:\n",
    "                    right_end = i\n",
    "                    break\n",
    "\n",
    "        # Extract the right subtree substring\n",
    "        right_subtree = s[right_start:right_end]\n",
    "\n",
    "        # Recursively build the right subtree\n",
    "        root.right = buildTree(right_subtree)\n",
    "\n",
    "    return root\n",
    "s = \"4(2(3)(1))(6(5))\"\n",
    "tree = buildTree(s)\n",
    "\n",
    "# Function to convert the binary tree to a list for comparison\n",
    "def treeToList(root):\n",
    "    if not root:\n",
    "        return []\n",
    "    return [root.val] + treeToList(root.left) + treeToList(root.right)\n",
    "\n",
    "result = treeToList(tree)\n",
    "print(result)"
   ]
  },
  {
   "cell_type": "markdown",
   "metadata": {},
   "source": [
    "Que 5"
   ]
  },
  {
   "cell_type": "code",
   "execution_count": 14,
   "metadata": {},
   "outputs": [
    {
     "name": "stdout",
     "output_type": "stream",
     "text": [
      "6\n",
      "['a', '2', 'b', '2', 'c', '3']\n"
     ]
    }
   ],
   "source": [
    "def compress(chars):\n",
    "    writeIndex = 0\n",
    "    count = 1\n",
    "    start = 1\n",
    "\n",
    "    for i in range(1, len(chars)):\n",
    "        if chars[i] == chars[i-1]:\n",
    "            count += 1\n",
    "        else:\n",
    "            chars[writeIndex] = chars[start-1]\n",
    "            writeIndex += 1\n",
    "\n",
    "            if count > 1:\n",
    "                countStr = str(count)\n",
    "                for digit in countStr:\n",
    "                    chars[writeIndex] = digit\n",
    "                    writeIndex += 1\n",
    "\n",
    "            start = i + 1\n",
    "            count = 1\n",
    "\n",
    "    chars[writeIndex] = chars[start-1]\n",
    "    writeIndex += 1\n",
    "\n",
    "    if count > 1:\n",
    "        countStr = str(count)\n",
    "        for digit in countStr:\n",
    "            chars[writeIndex] = digit\n",
    "            writeIndex += 1\n",
    "\n",
    "    return writeIndex\n",
    "chars = [\"a\", \"a\", \"b\", \"b\", \"c\", \"c\", \"c\"]\n",
    "newLength = compress(chars)\n",
    "compressedChars = chars[:newLength]\n",
    "\n",
    "print(newLength)\n",
    "print(compressedChars)"
   ]
  },
  {
   "cell_type": "markdown",
   "metadata": {},
   "source": [
    "Que 6"
   ]
  },
  {
   "cell_type": "code",
   "execution_count": 15,
   "metadata": {},
   "outputs": [
    {
     "name": "stdout",
     "output_type": "stream",
     "text": [
      "[0, 6]\n"
     ]
    }
   ],
   "source": [
    "from collections import Counter\n",
    "\n",
    "def findAnagrams(s, p):\n",
    "    result = []\n",
    "    targetFreq = Counter(p)\n",
    "    windowFreq = Counter()\n",
    "\n",
    "    left, right = 0, 0\n",
    "    count = 0\n",
    "\n",
    "    while right < len(s):\n",
    "        # Expand the window\n",
    "        char = s[right]\n",
    "        windowFreq[char] += 1\n",
    "        if char in targetFreq and windowFreq[char] == targetFreq[char]:\n",
    "            count += 1\n",
    "\n",
    "        # Check if the window size is equal to p's size\n",
    "        if right - left + 1 == len(p):\n",
    "            if count == len(targetFreq):\n",
    "                result.append(left)\n",
    "\n",
    "            # Shrink the window\n",
    "            char = s[left]\n",
    "            windowFreq[char] -= 1\n",
    "            if char in targetFreq and windowFreq[char] < targetFreq[char]:\n",
    "                count -= 1\n",
    "\n",
    "            left += 1\n",
    "\n",
    "        right += 1\n",
    "\n",
    "    return result\n",
    "s = \"cbaebabacd\"\n",
    "p = \"abc\"\n",
    "result = findAnagrams(s, p)\n",
    "print(result)"
   ]
  },
  {
   "cell_type": "markdown",
   "metadata": {},
   "source": [
    "Que 7"
   ]
  },
  {
   "cell_type": "code",
   "execution_count": 18,
   "metadata": {},
   "outputs": [
    {
     "name": "stdout",
     "output_type": "stream",
     "text": [
      "aaabcbc\n"
     ]
    }
   ],
   "source": [
    "def decodeString(s):\n",
    "    stack = []\n",
    "    num_stack = []\n",
    "    curr_str = \"\"\n",
    "\n",
    "    for char in s:\n",
    "        if char.isdigit():\n",
    "            num_stack.append(int(char))\n",
    "        elif char.isalpha():\n",
    "            curr_str += char\n",
    "        elif char == '[':\n",
    "            stack.append(curr_str)\n",
    "            stack.append(num_stack.pop())\n",
    "            curr_str = \"\"\n",
    "        elif char == ']':\n",
    "            num = stack.pop()\n",
    "            prev_str = stack.pop()\n",
    "            curr_str = prev_str + num * curr_str\n",
    "    return curr_str\n",
    "\n",
    "s = \"3[a]2[bc]\"\n",
    "decoded = decodeString(s)\n",
    "print(decoded)"
   ]
  },
  {
   "cell_type": "markdown",
   "metadata": {},
   "source": [
    "Que 8"
   ]
  },
  {
   "cell_type": "code",
   "execution_count": 19,
   "metadata": {},
   "outputs": [
    {
     "name": "stdout",
     "output_type": "stream",
     "text": [
      "True\n"
     ]
    }
   ],
   "source": [
    "def buddyStrings(s, goal):\n",
    "    if len(s) != len(goal):\n",
    "        return False\n",
    "    \n",
    "    if s == goal:\n",
    "        # Check if there are any repeated characters in s\n",
    "        seen = set()\n",
    "        for char in s:\n",
    "            if char in seen:\n",
    "                return True\n",
    "            seen.add(char)\n",
    "        return False\n",
    "    \n",
    "    # Find the positions where s and goal differ\n",
    "    diffs = []\n",
    "    for i in range(len(s)):\n",
    "        if s[i] != goal[i]:\n",
    "            diffs.append(i)\n",
    "    \n",
    "    if len(diffs) != 2:\n",
    "        return False\n",
    "    \n",
    "    # Check if swapping the characters at the differing positions results in goal\n",
    "    i, j = diffs[0], diffs[1]\n",
    "    if s[i] == goal[j] and s[j] == goal[i]:\n",
    "        return True\n",
    "    \n",
    "    return False\n",
    "\n",
    "s = \"ab\"\n",
    "goal = \"ba\"\n",
    "result = buddyStrings(s, goal)\n",
    "print(result)\n"
   ]
  },
  {
   "cell_type": "code",
   "execution_count": null,
   "metadata": {},
   "outputs": [],
   "source": []
  }
 ],
 "metadata": {
  "kernelspec": {
   "display_name": "Python 3",
   "language": "python",
   "name": "python3"
  },
  "language_info": {
   "codemirror_mode": {
    "name": "ipython",
    "version": 3
   },
   "file_extension": ".py",
   "mimetype": "text/x-python",
   "name": "python",
   "nbconvert_exporter": "python",
   "pygments_lexer": "ipython3",
   "version": "3.8.3"
  }
 },
 "nbformat": 4,
 "nbformat_minor": 4
}
